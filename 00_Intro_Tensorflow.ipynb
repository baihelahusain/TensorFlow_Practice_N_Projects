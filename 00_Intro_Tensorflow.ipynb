{
 "cells": [
  {
   "cell_type": "code",
   "execution_count": 3,
   "id": "18b8af9b-85c5-4516-8415-e84cbfff47b5",
   "metadata": {},
   "outputs": [],
   "source": [
    "import tensorflow as tf\n",
    "import numpy as np"
   ]
  },
  {
   "cell_type": "code",
   "execution_count": 4,
   "id": "d458a6ae-5015-4573-b609-af5c2bebfa2c",
   "metadata": {},
   "outputs": [
    {
     "name": "stdout",
     "output_type": "stream",
     "text": [
      "2.19.0\n"
     ]
    }
   ],
   "source": [
    "print(tf.__version__)"
   ]
  },
  {
   "cell_type": "code",
   "execution_count": 5,
   "id": "8ee3b980-925e-4a75-9763-e8ba16d277bc",
   "metadata": {},
   "outputs": [
    {
     "data": {
      "text/plain": [
       "<tf.Tensor: shape=(), dtype=int32, numpy=7>"
      ]
     },
     "execution_count": 5,
     "metadata": {},
     "output_type": "execute_result"
    }
   ],
   "source": [
    "#create tensors with tf.constant()\n",
    "scalar = tf.constant(7)\n",
    "scalar"
   ]
  },
  {
   "cell_type": "code",
   "execution_count": 6,
   "id": "1cbcb5de-f829-4061-985f-d9cc32bd2832",
   "metadata": {},
   "outputs": [
    {
     "data": {
      "text/plain": [
       "0"
      ]
     },
     "execution_count": 6,
     "metadata": {},
     "output_type": "execute_result"
    }
   ],
   "source": [
    "#NDim of tensor\n",
    "scalar.ndim"
   ]
  },
  {
   "cell_type": "code",
   "execution_count": 7,
   "id": "513edaed-785c-458b-b5bb-1b3f03d7e7b1",
   "metadata": {},
   "outputs": [
    {
     "data": {
      "text/plain": [
       "<tf.Tensor: shape=(2,), dtype=int32, numpy=array([10, 10], dtype=int32)>"
      ]
     },
     "execution_count": 7,
     "metadata": {},
     "output_type": "execute_result"
    }
   ],
   "source": [
    "#Creating vector\n",
    "vec = tf.constant([10, 10])\n",
    "vec"
   ]
  },
  {
   "cell_type": "code",
   "execution_count": 8,
   "id": "21558737-25bd-459b-9674-ecaecf7238b2",
   "metadata": {},
   "outputs": [
    {
     "data": {
      "text/plain": [
       "1"
      ]
     },
     "execution_count": 8,
     "metadata": {},
     "output_type": "execute_result"
    }
   ],
   "source": [
    "vec.ndim"
   ]
  },
  {
   "cell_type": "code",
   "execution_count": 9,
   "id": "a55e55f5-f09e-4cc8-9480-1401a330b6fd",
   "metadata": {},
   "outputs": [
    {
     "data": {
      "text/plain": [
       "<tf.Tensor: shape=(2, 2), dtype=int32, numpy=\n",
       "array([[10,  7],\n",
       "       [ 7, 10]], dtype=int32)>"
      ]
     },
     "execution_count": 9,
     "metadata": {},
     "output_type": "execute_result"
    }
   ],
   "source": [
    "#create a matrix\n",
    "mat = tf.constant([[10,7],[7,10]])\n",
    "mat"
   ]
  },
  {
   "cell_type": "code",
   "execution_count": 10,
   "id": "fa54444f-5c89-49f7-a9e1-7627786e732e",
   "metadata": {},
   "outputs": [
    {
     "data": {
      "text/plain": [
       "2"
      ]
     },
     "execution_count": 10,
     "metadata": {},
     "output_type": "execute_result"
    }
   ],
   "source": [
    "mat.ndim"
   ]
  },
  {
   "cell_type": "code",
   "execution_count": 11,
   "id": "4b43e68a-c749-4a73-8c21-aa0818c1e3a6",
   "metadata": {},
   "outputs": [
    {
     "data": {
      "text/plain": [
       "<tf.Tensor: shape=(3, 2), dtype=float32, numpy=\n",
       "array([[10.,  7.],\n",
       "       [12., 54.],\n",
       "       [ 8.,  9.]], dtype=float32)>"
      ]
     },
     "execution_count": 11,
     "metadata": {},
     "output_type": "execute_result"
    }
   ],
   "source": [
    "#one more matrix\n",
    "an_mat = tf.constant([[10.,7.],[12.,54.],[8.,9.]])\n",
    "an_mat"
   ]
  },
  {
   "cell_type": "code",
   "execution_count": 12,
   "id": "b5dd2b50-6da2-4d45-861a-ba7a109c324b",
   "metadata": {},
   "outputs": [
    {
     "data": {
      "text/plain": [
       "2"
      ]
     },
     "execution_count": 12,
     "metadata": {},
     "output_type": "execute_result"
    }
   ],
   "source": [
    "an_mat.ndim"
   ]
  },
  {
   "cell_type": "code",
   "execution_count": 13,
   "id": "d5780610-3493-492c-a0ea-119a7da4e8a1",
   "metadata": {},
   "outputs": [
    {
     "data": {
      "text/plain": [
       "<tf.Tensor: shape=(2, 2, 2), dtype=int32, numpy=\n",
       "array([[[1, 2],\n",
       "        [2, 3]],\n",
       "\n",
       "       [[1, 2],\n",
       "        [1, 2]]], dtype=int32)>"
      ]
     },
     "execution_count": 13,
     "metadata": {},
     "output_type": "execute_result"
    }
   ],
   "source": [
    "#creating tensor\n",
    "tensor = tf.constant([[[1,2],[2,3]],[[1,2],[1,2]]])\n",
    "tensor"
   ]
  },
  {
   "cell_type": "code",
   "execution_count": 14,
   "id": "eb6a9ce2-6ae5-4358-8121-48ba6c5067ee",
   "metadata": {},
   "outputs": [
    {
     "data": {
      "text/plain": [
       "3"
      ]
     },
     "execution_count": 14,
     "metadata": {},
     "output_type": "execute_result"
    }
   ],
   "source": [
    "tensor.ndim"
   ]
  },
  {
   "cell_type": "code",
   "execution_count": 15,
   "id": "969ae41b-ebc7-4f7e-be26-e67b1e3d443d",
   "metadata": {},
   "outputs": [
    {
     "data": {
      "text/plain": [
       "<tf.Variable 'Variable:0' shape=(2, 2, 2) dtype=int32, numpy=\n",
       "array([[[16,  5],\n",
       "        [12,  3]],\n",
       "\n",
       "       [[11, 29],\n",
       "        [14,  7]]], dtype=int32)>"
      ]
     },
     "execution_count": 15,
     "metadata": {},
     "output_type": "execute_result"
    }
   ],
   "source": [
    "t = tf.Variable([[[16,5],[12,3]],[[11,29],[14,7]]])\n",
    "t"
   ]
  },
  {
   "cell_type": "code",
   "execution_count": 16,
   "id": "8245719c-b4b0-41ca-b199-c2f1bd5fb0e6",
   "metadata": {},
   "outputs": [
    {
     "data": {
      "text/plain": [
       "<tf.Tensor: shape=(2, 2), dtype=int32, numpy=\n",
       "array([[16,  5],\n",
       "       [12,  3]], dtype=int32)>"
      ]
     },
     "execution_count": 16,
     "metadata": {},
     "output_type": "execute_result"
    }
   ],
   "source": [
    "t[0]"
   ]
  },
  {
   "cell_type": "code",
   "execution_count": 17,
   "id": "adf8b294-7370-470d-9fba-56a07c950bf4",
   "metadata": {},
   "outputs": [
    {
     "data": {
      "text/plain": [
       "<tf.Tensor: shape=(2,), dtype=int32, numpy=array([12,  3], dtype=int32)>"
      ]
     },
     "execution_count": 17,
     "metadata": {},
     "output_type": "execute_result"
    }
   ],
   "source": [
    "t[0,1]"
   ]
  },
  {
   "cell_type": "code",
   "execution_count": 18,
   "id": "89614b5a-050d-44c6-8e63-807d3b75e700",
   "metadata": {},
   "outputs": [
    {
     "data": {
      "text/plain": [
       "<tf.Tensor: shape=(), dtype=int32, numpy=5>"
      ]
     },
     "execution_count": 18,
     "metadata": {},
     "output_type": "execute_result"
    }
   ],
   "source": [
    "t[0,0,1]"
   ]
  },
  {
   "cell_type": "code",
   "execution_count": 19,
   "id": "7d665c31-2063-40d6-ad69-0067582de27a",
   "metadata": {},
   "outputs": [
    {
     "data": {
      "text/plain": [
       "np.int32(5)"
      ]
     },
     "execution_count": 19,
     "metadata": {},
     "output_type": "execute_result"
    }
   ],
   "source": [
    "t[0,0,1].numpy()"
   ]
  },
  {
   "cell_type": "code",
   "execution_count": 20,
   "id": "7872b87e-15c3-4f98-bccb-a799ea5fda67",
   "metadata": {},
   "outputs": [
    {
     "data": {
      "text/plain": [
       "np.int32(5)"
      ]
     },
     "execution_count": 20,
     "metadata": {},
     "output_type": "execute_result"
    }
   ],
   "source": [
    "t[0, 0, -1].numpy()"
   ]
  },
  {
   "cell_type": "code",
   "execution_count": 21,
   "id": "e5264d84-083a-441e-aaf5-9f8f4f324d0e",
   "metadata": {},
   "outputs": [
    {
     "data": {
      "text/plain": [
       "array([16, 99], dtype=int32)"
      ]
     },
     "execution_count": 21,
     "metadata": {},
     "output_type": "execute_result"
    }
   ],
   "source": [
    "t[0, 0, 1].assign(99)\n",
    "t[0, 0].numpy() "
   ]
  },
  {
   "cell_type": "code",
   "execution_count": 22,
   "id": "0e1b2174-5ed9-4e21-ba0c-2ac2bfec236d",
   "metadata": {},
   "outputs": [
    {
     "data": {
      "text/plain": [
       "array([[16, 99],\n",
       "       [88, 77]], dtype=int32)"
      ]
     },
     "execution_count": 22,
     "metadata": {},
     "output_type": "execute_result"
    }
   ],
   "source": [
    "t[0, 1].assign([88, 77])\n",
    "t[0].numpy()"
   ]
  },
  {
   "cell_type": "code",
   "execution_count": 23,
   "id": "0815b5ae-88e0-4c40-a75e-18dfc7d3e77a",
   "metadata": {},
   "outputs": [],
   "source": [
    "#create random tensors"
   ]
  },
  {
   "cell_type": "code",
   "execution_count": 24,
   "id": "c932ad20-9de6-47dc-a54a-9c2a0ead395f",
   "metadata": {},
   "outputs": [
    {
     "data": {
      "text/plain": [
       "(<tf.Tensor: shape=(3, 2), dtype=float32, numpy=\n",
       " array([[-0.7565803 , -0.06854702],\n",
       "        [ 0.07595026, -1.2573844 ],\n",
       "        [-0.23193763, -1.8107855 ]], dtype=float32)>,\n",
       " <tf.Tensor: shape=(3, 2), dtype=float32, numpy=\n",
       " array([[-0.7565803 , -0.06854702],\n",
       "        [ 0.07595026, -1.2573844 ],\n",
       "        [-0.23193763, -1.8107855 ]], dtype=float32)>,\n",
       " <tf.Tensor: shape=(3, 2), dtype=bool, numpy=\n",
       " array([[ True,  True],\n",
       "        [ True,  True],\n",
       "        [ True,  True]])>)"
      ]
     },
     "execution_count": 24,
     "metadata": {},
     "output_type": "execute_result"
    }
   ],
   "source": [
    "random = tf.random.Generator.from_seed(42)\n",
    "random = random.normal(shape=(3,2))\n",
    "random1=tf.random.Generator.from_seed(42)\n",
    "random1 = random1.normal(shape=(3,2))\n",
    "random , random1, random == random1"
   ]
  },
  {
   "cell_type": "code",
   "execution_count": 25,
   "id": "cb0d9223-a305-48ea-80aa-fed8004673f5",
   "metadata": {},
   "outputs": [
    {
     "data": {
      "text/plain": [
       "<tf.Tensor: shape=(3, 2), dtype=int32, numpy=\n",
       "array([[ 3,  4],\n",
       "       [ 5,  2],\n",
       "       [10,  7]], dtype=int32)>"
      ]
     },
     "execution_count": 25,
     "metadata": {},
     "output_type": "execute_result"
    }
   ],
   "source": [
    "#Shuffle a tensor\n",
    "new_ten = tf.constant([[10,7],[3,4],[5,2]])\n",
    "tf.random.shuffle(new_ten)"
   ]
  },
  {
   "cell_type": "code",
   "execution_count": 26,
   "id": "b6698157-45d5-4c60-8c6a-07dbb9ab95a7",
   "metadata": {},
   "outputs": [
    {
     "data": {
      "text/plain": [
       "<tf.Tensor: shape=(3, 2), dtype=int32, numpy=\n",
       "array([[ 5,  2],\n",
       "       [ 3,  4],\n",
       "       [10,  7]], dtype=int32)>"
      ]
     },
     "execution_count": 26,
     "metadata": {},
     "output_type": "execute_result"
    }
   ],
   "source": [
    "tf.random.shuffle(new_ten)"
   ]
  },
  {
   "cell_type": "code",
   "execution_count": 27,
   "id": "c310d5d2-bb93-4bb8-9ba9-c0e040b56720",
   "metadata": {},
   "outputs": [
    {
     "data": {
      "text/plain": [
       "<tf.Tensor: shape=(3, 2), dtype=int32, numpy=\n",
       "array([[ 5,  2],\n",
       "       [ 3,  4],\n",
       "       [10,  7]], dtype=int32)>"
      ]
     },
     "execution_count": 27,
     "metadata": {},
     "output_type": "execute_result"
    }
   ],
   "source": [
    "tf.random.shuffle(new_ten, seed=42)"
   ]
  },
  {
   "cell_type": "code",
   "execution_count": 28,
   "id": "99a1eea7-daee-41fe-9dd5-34ff66203594",
   "metadata": {},
   "outputs": [
    {
     "data": {
      "text/plain": [
       "<tf.Tensor: shape=(3, 2), dtype=int32, numpy=\n",
       "array([[10,  7],\n",
       "       [ 3,  4],\n",
       "       [ 5,  2]], dtype=int32)>"
      ]
     },
     "execution_count": 28,
     "metadata": {},
     "output_type": "execute_result"
    }
   ],
   "source": [
    "tf.random.set_seed(42)#global level seed \n",
    "tf.random.shuffle(new_ten, seed=42)#not changning (operational level seed)"
   ]
  },
  {
   "cell_type": "code",
   "execution_count": 29,
   "id": "8ae147bd-91bb-47da-b833-27b74561b538",
   "metadata": {},
   "outputs": [
    {
     "data": {
      "text/plain": [
       "<tf.Tensor: shape=(3, 5), dtype=float32, numpy=\n",
       "array([[1., 1., 1., 1., 1.],\n",
       "       [1., 1., 1., 1., 1.],\n",
       "       [1., 1., 1., 1., 1.]], dtype=float32)>"
      ]
     },
     "execution_count": 29,
     "metadata": {},
     "output_type": "execute_result"
    }
   ],
   "source": [
    "tf.ones([3,5])"
   ]
  },
  {
   "cell_type": "code",
   "execution_count": 30,
   "id": "dfcd6036-f5b8-4bd0-a966-c91b9c053101",
   "metadata": {},
   "outputs": [
    {
     "data": {
      "text/plain": [
       "<tf.Tensor: shape=(9, 2), dtype=float32, numpy=\n",
       "array([[0., 0.],\n",
       "       [0., 0.],\n",
       "       [0., 0.],\n",
       "       [0., 0.],\n",
       "       [0., 0.],\n",
       "       [0., 0.],\n",
       "       [0., 0.],\n",
       "       [0., 0.],\n",
       "       [0., 0.]], dtype=float32)>"
      ]
     },
     "execution_count": 30,
     "metadata": {},
     "output_type": "execute_result"
    }
   ],
   "source": [
    "tf.zeros(shape=(9,2))"
   ]
  },
  {
   "cell_type": "markdown",
   "id": "da5e661e-5b34-4da8-8772-9aecd908bc97",
   "metadata": {},
   "source": [
    "**Numpy to Tensorflow**"
   ]
  },
  {
   "cell_type": "code",
   "execution_count": 32,
   "id": "b075c4d5-8b4a-48df-9f23-2498c45fd15f",
   "metadata": {},
   "outputs": [
    {
     "data": {
      "text/plain": [
       "array([ 1.,  2.,  3.,  4.,  5.,  6.,  7.,  8.,  9., 10., 11., 12., 13.,\n",
       "       14., 15., 16., 17., 18., 19., 20., 21., 22., 23., 24.])"
      ]
     },
     "execution_count": 32,
     "metadata": {},
     "output_type": "execute_result"
    }
   ],
   "source": [
    "import numpy as np\n",
    "numpy_a = np.arange(1,25, dtype = float)\n",
    "numpy_a"
   ]
  },
  {
   "cell_type": "code",
   "execution_count": 33,
   "id": "625a927d-60f8-45ce-82ca-4bf9cd2ad77e",
   "metadata": {},
   "outputs": [
    {
     "data": {
      "text/plain": [
       "<tf.Tensor: shape=(24,), dtype=float64, numpy=\n",
       "array([ 1.,  2.,  3.,  4.,  5.,  6.,  7.,  8.,  9., 10., 11., 12., 13.,\n",
       "       14., 15., 16., 17., 18., 19., 20., 21., 22., 23., 24.])>"
      ]
     },
     "execution_count": 33,
     "metadata": {},
     "output_type": "execute_result"
    }
   ],
   "source": [
    "a = tf.constant(numpy_a)\n",
    "a"
   ]
  },
  {
   "cell_type": "code",
   "execution_count": 34,
   "id": "286c8b73-a487-4793-8891-ca65bca33588",
   "metadata": {},
   "outputs": [
    {
     "data": {
      "text/plain": [
       "(<tf.Tensor: shape=(2, 3, 4), dtype=float64, numpy=\n",
       " array([[[ 1.,  2.,  3.,  4.],\n",
       "         [ 5.,  6.,  7.,  8.],\n",
       "         [ 9., 10., 11., 12.]],\n",
       " \n",
       "        [[13., 14., 15., 16.],\n",
       "         [17., 18., 19., 20.],\n",
       "         [21., 22., 23., 24.]]])>,\n",
       " <tf.Tensor: shape=(24,), dtype=float64, numpy=\n",
       " array([ 1.,  2.,  3.,  4.,  5.,  6.,  7.,  8.,  9., 10., 11., 12., 13.,\n",
       "        14., 15., 16., 17., 18., 19., 20., 21., 22., 23., 24.])>)"
      ]
     },
     "execution_count": 34,
     "metadata": {},
     "output_type": "execute_result"
    }
   ],
   "source": [
    "b=tf.constant(numpy_a, shape=(2,3,4))\n",
    "b,a"
   ]
  },
  {
   "cell_type": "code",
   "execution_count": 35,
   "id": "0b947195-7b43-48a4-895f-32d0d643cbd2",
   "metadata": {},
   "outputs": [
    {
     "data": {
      "text/plain": [
       "3"
      ]
     },
     "execution_count": 35,
     "metadata": {},
     "output_type": "execute_result"
    }
   ],
   "source": [
    "b.ndim"
   ]
  },
  {
   "cell_type": "code",
   "execution_count": 36,
   "id": "6212c47b-a3fd-4053-a86e-7e36d0ea2c98",
   "metadata": {},
   "outputs": [
    {
     "data": {
      "text/plain": [
       "1"
      ]
     },
     "execution_count": 36,
     "metadata": {},
     "output_type": "execute_result"
    }
   ],
   "source": [
    "a.ndim"
   ]
  },
  {
   "cell_type": "markdown",
   "id": "b0f54627-7c24-43c5-bc42-2967d4f9e0cf",
   "metadata": {},
   "source": [
    "**Getting info from tensor**"
   ]
  },
  {
   "cell_type": "code",
   "execution_count": 38,
   "id": "b190a0e2-74e7-458e-990f-86f16445453e",
   "metadata": {},
   "outputs": [
    {
     "data": {
      "text/plain": [
       "'shape, rank(ndim), axis and dimension which already did above \\nits like fetching elements from the table of tensors ele and size tf.size(tensor)'"
      ]
     },
     "execution_count": 38,
     "metadata": {},
     "output_type": "execute_result"
    }
   ],
   "source": [
    "'''shape, rank(ndim), axis and dimension which already did above \n",
    "its like fetching elements from the table of tensors ele and size tf.size(tensor)'''"
   ]
  },
  {
   "cell_type": "code",
   "execution_count": 39,
   "id": "ca4f6bf6-77f4-4da8-a444-9e137c0c1f84",
   "metadata": {},
   "outputs": [
    {
     "data": {
      "text/plain": [
       "<tf.Tensor: shape=(3, 2, 5, 6), dtype=float32, numpy=\n",
       "array([[[[1., 1., 1., 1., 1., 1.],\n",
       "         [1., 1., 1., 1., 1., 1.],\n",
       "         [1., 1., 1., 1., 1., 1.],\n",
       "         [1., 1., 1., 1., 1., 1.],\n",
       "         [1., 1., 1., 1., 1., 1.]],\n",
       "\n",
       "        [[1., 1., 1., 1., 1., 1.],\n",
       "         [1., 1., 1., 1., 1., 1.],\n",
       "         [1., 1., 1., 1., 1., 1.],\n",
       "         [1., 1., 1., 1., 1., 1.],\n",
       "         [1., 1., 1., 1., 1., 1.]]],\n",
       "\n",
       "\n",
       "       [[[1., 1., 1., 1., 1., 1.],\n",
       "         [1., 1., 1., 1., 1., 1.],\n",
       "         [1., 1., 1., 1., 1., 1.],\n",
       "         [1., 1., 1., 1., 1., 1.],\n",
       "         [1., 1., 1., 1., 1., 1.]],\n",
       "\n",
       "        [[1., 1., 1., 1., 1., 1.],\n",
       "         [1., 1., 1., 1., 1., 1.],\n",
       "         [1., 1., 1., 1., 1., 1.],\n",
       "         [1., 1., 1., 1., 1., 1.],\n",
       "         [1., 1., 1., 1., 1., 1.]]],\n",
       "\n",
       "\n",
       "       [[[1., 1., 1., 1., 1., 1.],\n",
       "         [1., 1., 1., 1., 1., 1.],\n",
       "         [1., 1., 1., 1., 1., 1.],\n",
       "         [1., 1., 1., 1., 1., 1.],\n",
       "         [1., 1., 1., 1., 1., 1.]],\n",
       "\n",
       "        [[1., 1., 1., 1., 1., 1.],\n",
       "         [1., 1., 1., 1., 1., 1.],\n",
       "         [1., 1., 1., 1., 1., 1.],\n",
       "         [1., 1., 1., 1., 1., 1.],\n",
       "         [1., 1., 1., 1., 1., 1.]]]], dtype=float32)>"
      ]
     },
     "execution_count": 39,
     "metadata": {},
     "output_type": "execute_result"
    }
   ],
   "source": [
    "tensor_of_rnk4=tf.ones([3,2,5,6])\n",
    "tensor_of_rnk4"
   ]
  },
  {
   "cell_type": "code",
   "execution_count": 40,
   "id": "621a0aba-d8ae-4c97-b9a1-83c86735f8a0",
   "metadata": {},
   "outputs": [
    {
     "data": {
      "text/plain": [
       "<tf.Tensor: shape=(), dtype=int32, numpy=180>"
      ]
     },
     "execution_count": 40,
     "metadata": {},
     "output_type": "execute_result"
    }
   ],
   "source": [
    "tf.size(tensor_of_rnk4)"
   ]
  },
  {
   "cell_type": "code",
   "execution_count": 41,
   "id": "95fe64f2-6721-4977-b55d-fdd9c0731f3c",
   "metadata": {},
   "outputs": [
    {
     "data": {
      "text/plain": [
       "<tf.Tensor: shape=(4,), dtype=int32, numpy=array([3, 2, 5, 6], dtype=int32)>"
      ]
     },
     "execution_count": 41,
     "metadata": {},
     "output_type": "execute_result"
    }
   ],
   "source": [
    "tf.shape(tensor_of_rnk4)"
   ]
  },
  {
   "cell_type": "code",
   "execution_count": 42,
   "id": "e4e9ff42-b149-4de8-9c0a-998b0efb3868",
   "metadata": {},
   "outputs": [
    {
     "data": {
      "text/plain": [
       "<tf.Tensor: shape=(2, 5, 6), dtype=float32, numpy=\n",
       "array([[[1., 1., 1., 1., 1., 1.],\n",
       "        [1., 1., 1., 1., 1., 1.],\n",
       "        [1., 1., 1., 1., 1., 1.],\n",
       "        [1., 1., 1., 1., 1., 1.],\n",
       "        [1., 1., 1., 1., 1., 1.]],\n",
       "\n",
       "       [[1., 1., 1., 1., 1., 1.],\n",
       "        [1., 1., 1., 1., 1., 1.],\n",
       "        [1., 1., 1., 1., 1., 1.],\n",
       "        [1., 1., 1., 1., 1., 1.],\n",
       "        [1., 1., 1., 1., 1., 1.]]], dtype=float32)>"
      ]
     },
     "execution_count": 42,
     "metadata": {},
     "output_type": "execute_result"
    }
   ],
   "source": [
    "tensor_of_rnk4[0]"
   ]
  },
  {
   "cell_type": "code",
   "execution_count": 43,
   "id": "5ade4ce0-c305-43eb-b197-c7f03ab25816",
   "metadata": {},
   "outputs": [
    {
     "data": {
      "text/plain": [
       "TensorShape([3, 2, 5, 6])"
      ]
     },
     "execution_count": 43,
     "metadata": {},
     "output_type": "execute_result"
    }
   ],
   "source": [
    "tensor_of_rnk4.shape"
   ]
  },
  {
   "cell_type": "code",
   "execution_count": 44,
   "id": "d92e9d10-48fc-4c50-abec-93c95e3723cc",
   "metadata": {},
   "outputs": [
    {
     "name": "stdout",
     "output_type": "stream",
     "text": [
      "Dtype of tensor: <dtype: 'float32'>\n",
      "N_Dim of(rank): 4\n",
      "Shape of tensor: (3, 2, 5, 6)\n",
      "ele along the 0 axis: 3\n",
      "ele along the last axis: 6\n",
      "Total n. of ele in our tensor 180\n"
     ]
    }
   ],
   "source": [
    "print(\"Dtype of tensor:\",tensor_of_rnk4.dtype)\n",
    "print(\"N_Dim of(rank):\", tensor_of_rnk4.ndim)\n",
    "print(\"Shape of tensor:\",tensor_of_rnk4.shape)\n",
    "print(\"ele along the 0 axis:\",tensor_of_rnk4.shape[0])\n",
    "print(\"ele along the last axis:\",tensor_of_rnk4.shape[-1])\n",
    "print(\"Total n. of ele in our tensor\",tf.size(tensor_of_rnk4).numpy())"
   ]
  },
  {
   "cell_type": "code",
   "execution_count": 45,
   "id": "69bad25d-3d92-454b-984b-4330c65aca2d",
   "metadata": {},
   "outputs": [],
   "source": [
    "#Tensors can be indexed like python list"
   ]
  },
  {
   "cell_type": "code",
   "execution_count": 46,
   "id": "c1655498-e910-4435-976a-2a3e367894d1",
   "metadata": {},
   "outputs": [
    {
     "data": {
      "text/plain": [
       "<tf.Tensor: shape=(2, 2, 2, 2), dtype=float32, numpy=\n",
       "array([[[[1., 1.],\n",
       "         [1., 1.]],\n",
       "\n",
       "        [[1., 1.],\n",
       "         [1., 1.]]],\n",
       "\n",
       "\n",
       "       [[[1., 1.],\n",
       "         [1., 1.]],\n",
       "\n",
       "        [[1., 1.],\n",
       "         [1., 1.]]]], dtype=float32)>"
      ]
     },
     "execution_count": 46,
     "metadata": {},
     "output_type": "execute_result"
    }
   ],
   "source": [
    "#Get the first 2 ele from each direction\n",
    "tensor_of_rnk4[:2,:2,:2,:2]"
   ]
  },
  {
   "cell_type": "code",
   "execution_count": 47,
   "id": "7ee43d1b-82e2-4b32-8591-5404387931eb",
   "metadata": {},
   "outputs": [
    {
     "data": {
      "text/plain": [
       "<tf.Tensor: shape=(1, 1, 5, 1), dtype=float32, numpy=\n",
       "array([[[[1.],\n",
       "         [1.],\n",
       "         [1.],\n",
       "         [1.],\n",
       "         [1.]]]], dtype=float32)>"
      ]
     },
     "execution_count": 47,
     "metadata": {},
     "output_type": "execute_result"
    }
   ],
   "source": [
    "#Get 1st ele from each dim except for the 3rd one\n",
    "tensor_of_rnk4[:1,:1,:,:1]"
   ]
  },
  {
   "cell_type": "code",
   "execution_count": 48,
   "id": "2fbe1a70-1ddd-42ec-86bd-b68b59950e1e",
   "metadata": {},
   "outputs": [
    {
     "data": {
      "text/plain": [
       "<tf.Tensor: shape=(2, 2), dtype=int32, numpy=\n",
       "array([[3, 2],\n",
       "       [2, 7]], dtype=int32)>"
      ]
     },
     "execution_count": 48,
     "metadata": {},
     "output_type": "execute_result"
    }
   ],
   "source": [
    "rnk2_tensor = tf.constant([[3,2],[2,7]])\n",
    "rnk2_tensor"
   ]
  },
  {
   "cell_type": "code",
   "execution_count": 49,
   "id": "e3fcda34-d6db-426c-9670-ed08121579b6",
   "metadata": {},
   "outputs": [
    {
     "data": {
      "text/plain": [
       "<tf.Tensor: shape=(2,), dtype=int32, numpy=array([2, 7], dtype=int32)>"
      ]
     },
     "execution_count": 49,
     "metadata": {},
     "output_type": "execute_result"
    }
   ],
   "source": [
    "rnk2_tensor[:,-1]"
   ]
  },
  {
   "cell_type": "code",
   "execution_count": 50,
   "id": "e9a02472-37ce-4173-a1f3-1aef8e99a6d9",
   "metadata": {},
   "outputs": [
    {
     "data": {
      "text/plain": [
       "<tf.Tensor: shape=(2, 2, 1), dtype=int32, numpy=\n",
       "array([[[3],\n",
       "        [2]],\n",
       "\n",
       "       [[2],\n",
       "        [7]]], dtype=int32)>"
      ]
     },
     "execution_count": 50,
     "metadata": {},
     "output_type": "execute_result"
    }
   ],
   "source": [
    "#Extra dim to rnk2_tensor without changing its prev values\n",
    "rnk3_tensor = rnk2_tensor[...,tf.newaxis]\n",
    "rnk3_tensor"
   ]
  },
  {
   "cell_type": "code",
   "execution_count": 51,
   "id": "e3918e15-99b4-404e-b460-00c61a533a91",
   "metadata": {},
   "outputs": [
    {
     "data": {
      "text/plain": [
       "<tf.Tensor: shape=(2, 2), dtype=int32, numpy=\n",
       "array([[13, 20],\n",
       "       [20, 53]], dtype=int32)>"
      ]
     },
     "execution_count": 51,
     "metadata": {},
     "output_type": "execute_result"
    }
   ],
   "source": [
    "Rnk2 = rnk2_tensor @ rnk2_tensor\n",
    "Rnk2"
   ]
  },
  {
   "cell_type": "code",
   "execution_count": 52,
   "id": "05725d5d-8c08-4f33-b291-86b415da0b12",
   "metadata": {},
   "outputs": [
    {
     "data": {
      "text/plain": [
       "<tf.Tensor: shape=(2, 2), dtype=int32, numpy=\n",
       "array([[ 9,  4],\n",
       "       [ 4, 49]], dtype=int32)>"
      ]
     },
     "execution_count": 52,
     "metadata": {},
     "output_type": "execute_result"
    }
   ],
   "source": [
    "Rnkk2 = rnk2_tensor * rnk2_tensor#this is not the right way to do matrix multiplication\n",
    "Rnkk2"
   ]
  },
  {
   "cell_type": "code",
   "execution_count": 53,
   "id": "fa404d38-d3a0-4044-bc52-4b2af8be375e",
   "metadata": {},
   "outputs": [
    {
     "data": {
      "text/plain": [
       "<tf.Tensor: shape=(2, 2), dtype=int32, numpy=\n",
       "array([[  97,  232],\n",
       "       [ 232, 2417]], dtype=int32)>"
      ]
     },
     "execution_count": 53,
     "metadata": {},
     "output_type": "execute_result"
    }
   ],
   "source": [
    "tf.matmul(Rnkk2,Rnkk2)"
   ]
  },
  {
   "cell_type": "code",
   "execution_count": 54,
   "id": "f8013c35-b332-4f78-9b83-312ca17aa8cc",
   "metadata": {},
   "outputs": [],
   "source": [
    "new_col = tf.constant([[5],[6]])"
   ]
  },
  {
   "cell_type": "code",
   "execution_count": 55,
   "id": "550fb7cd-4a67-4d26-b026-a043e52d7d7a",
   "metadata": {},
   "outputs": [
    {
     "data": {
      "text/plain": [
       "<tf.Tensor: shape=(2, 3), dtype=int32, numpy=\n",
       "array([[13, 20,  5],\n",
       "       [20, 53,  6]], dtype=int32)>"
      ]
     },
     "execution_count": 55,
     "metadata": {},
     "output_type": "execute_result"
    }
   ],
   "source": [
    "res = tf.concat([Rnk2, new_col], axis = 1)\n",
    "res"
   ]
  },
  {
   "cell_type": "code",
   "execution_count": 56,
   "id": "c05b8b84-5f24-433d-b43e-4327fd05f686",
   "metadata": {},
   "outputs": [
    {
     "data": {
      "text/plain": [
       "<tf.Tensor: shape=(3, 2), dtype=int32, numpy=\n",
       "array([[13, 20],\n",
       "       [ 5, 20],\n",
       "       [53,  6]], dtype=int32)>"
      ]
     },
     "execution_count": 56,
     "metadata": {},
     "output_type": "execute_result"
    }
   ],
   "source": [
    "tf.reshape(res , shape = (3,2))"
   ]
  },
  {
   "cell_type": "code",
   "execution_count": 59,
   "id": "25d716de-d535-43a8-9220-13afa20f4fa6",
   "metadata": {},
   "outputs": [
    {
     "data": {
      "text/plain": [
       "(<tf.Tensor: shape=(3, 2), dtype=int32, numpy=\n",
       " array([[13, 20],\n",
       "        [20, 53],\n",
       "        [ 5,  6]], dtype=int32)>,\n",
       " <tf.Tensor: shape=(2, 3), dtype=int32, numpy=\n",
       " array([[13, 20,  5],\n",
       "        [20, 53,  6]], dtype=int32)>)"
      ]
     },
     "execution_count": 59,
     "metadata": {},
     "output_type": "execute_result"
    }
   ],
   "source": [
    "tf.transpose(res), tf.reshape(res, shape = (2,3))"
   ]
  },
  {
   "cell_type": "code",
   "execution_count": 63,
   "id": "8e5655fe-2445-40cc-9158-fc04f4ac06c8",
   "metadata": {},
   "outputs": [
    {
     "data": {
      "text/plain": [
       "<tf.Tensor: shape=(3, 2), dtype=int32, numpy=\n",
       "array([[ 197, 1032],\n",
       "       [ 392, 2677],\n",
       "       [  69,  314]], dtype=int32)>"
      ]
     },
     "execution_count": 63,
     "metadata": {},
     "output_type": "execute_result"
    }
   ],
   "source": [
    "tf.matmul(tf.transpose(res), Rnkk2)"
   ]
  },
  {
   "cell_type": "markdown",
   "id": "62c73303-aa56-40a6-8766-b86405e97b6d",
   "metadata": {},
   "source": [
    "**The Dot Product**"
   ]
  },
  {
   "cell_type": "code",
   "execution_count": 70,
   "id": "d2b55fd2-c941-43c8-a48e-11e52c867636",
   "metadata": {},
   "outputs": [
    {
     "data": {
      "text/plain": [
       "<tf.Tensor: shape=(3, 2), dtype=int32, numpy=\n",
       "array([[ 197, 1032],\n",
       "       [ 392, 2677],\n",
       "       [  69,  314]], dtype=int32)>"
      ]
     },
     "execution_count": 70,
     "metadata": {},
     "output_type": "execute_result"
    }
   ],
   "source": [
    "# performing dot product on res and Rnkk2\n",
    "tf.tensordot(tf.transpose(res), Rnkk2, axes = 1)"
   ]
  },
  {
   "cell_type": "markdown",
   "id": "fa43add4-ecfe-47fa-8b28-8c9057d2ab9d",
   "metadata": {},
   "source": [
    "### Changing the data type of tensor\n"
   ]
  },
  {
   "cell_type": "code",
   "execution_count": 75,
   "id": "147dcc39-5113-4d14-8602-c05af1f8f5f7",
   "metadata": {},
   "outputs": [
    {
     "data": {
      "text/plain": [
       "<tf.Tensor: shape=(3,), dtype=float32, numpy=array([1.3, 1.4, 1.5], dtype=float32)>"
      ]
     },
     "execution_count": 75,
     "metadata": {},
     "output_type": "execute_result"
    }
   ],
   "source": [
    "A = tf.constant([1.3,1.4,1.5])\n",
    "A"
   ]
  },
  {
   "cell_type": "code",
   "execution_count": 77,
   "id": "a60ec605-97b5-4d9e-bb05-f7c2dbb6b5a3",
   "metadata": {},
   "outputs": [
    {
     "data": {
      "text/plain": [
       "tf.float32"
      ]
     },
     "execution_count": 77,
     "metadata": {},
     "output_type": "execute_result"
    }
   ],
   "source": [
    "A.dtype"
   ]
  },
  {
   "cell_type": "code",
   "execution_count": 83,
   "id": "91dffb8d-bf61-4f43-be12-128c882326b6",
   "metadata": {},
   "outputs": [
    {
     "data": {
      "text/plain": [
       "tf.float16"
      ]
     },
     "execution_count": 83,
     "metadata": {},
     "output_type": "execute_result"
    }
   ],
   "source": [
    "A = tf.cast(A , dtype = tf.float16)\n",
    "A.dtype"
   ]
  },
  {
   "cell_type": "code",
   "execution_count": 87,
   "id": "46c67d09-8fde-4dd3-ab9e-7afaaa52dc18",
   "metadata": {},
   "outputs": [
    {
     "data": {
      "text/plain": [
       "<tf.Tensor: shape=(3,), dtype=int32, numpy=array([1, 1, 1], dtype=int32)>"
      ]
     },
     "execution_count": 87,
     "metadata": {},
     "output_type": "execute_result"
    }
   ],
   "source": [
    "B = tf.cast(A, dtype = tf.int32)\n",
    "B"
   ]
  },
  {
   "cell_type": "code",
   "execution_count": 91,
   "id": "2816f117-045a-415f-88d1-9fa5e3e37f5d",
   "metadata": {},
   "outputs": [
    {
     "data": {
      "text/plain": [
       "<tf.Tensor: shape=(3,), dtype=int16, numpy=array([1, 1, 1], dtype=int16)>"
      ]
     },
     "execution_count": 91,
     "metadata": {},
     "output_type": "execute_result"
    }
   ],
   "source": [
    "C = tf.cast(B, dtype = tf.int16)\n",
    "C"
   ]
  },
  {
   "cell_type": "markdown",
   "id": "4edad738-e07b-4bae-99c3-ebab7f72abea",
   "metadata": {},
   "source": [
    "***Aggreagating tensor***"
   ]
  },
  {
   "cell_type": "code",
   "execution_count": 96,
   "id": "50293817-607c-44ab-b99c-1fab1d5de8e1",
   "metadata": {},
   "outputs": [
    {
     "data": {
      "text/plain": [
       "<tf.Tensor: shape=(2, 2), dtype=int32, numpy=\n",
       "array([[-7, 10],\n",
       "       [ 1,  3]], dtype=int32)>"
      ]
     },
     "execution_count": 96,
     "metadata": {},
     "output_type": "execute_result"
    }
   ],
   "source": [
    "e = tf.constant([[-7,10],[1,3]])\n",
    "e"
   ]
  },
  {
   "cell_type": "code",
   "execution_count": 100,
   "id": "5a35c02b-3b19-478d-9319-624999b0faac",
   "metadata": {},
   "outputs": [
    {
     "data": {
      "text/plain": [
       "<tf.Tensor: shape=(2, 2), dtype=int32, numpy=\n",
       "array([[ 7, 10],\n",
       "       [ 1,  3]], dtype=int32)>"
      ]
     },
     "execution_count": 100,
     "metadata": {},
     "output_type": "execute_result"
    }
   ],
   "source": [
    "a = tf.abs(e)"
   ]
  },
  {
   "cell_type": "code",
   "execution_count": 104,
   "id": "f041b87f-b6bd-4007-b227-6d81149faf9b",
   "metadata": {},
   "outputs": [
    {
     "data": {
      "text/plain": [
       "<tf.Tensor: shape=(), dtype=int32, numpy=-7>"
      ]
     },
     "execution_count": 104,
     "metadata": {},
     "output_type": "execute_result"
    }
   ],
   "source": [
    "#min\n",
    "tf.reduce_min(e)"
   ]
  },
  {
   "cell_type": "code",
   "execution_count": 106,
   "id": "3f3aa7f1-d6cb-4bf5-a41a-47df5448eb67",
   "metadata": {},
   "outputs": [
    {
     "data": {
      "text/plain": [
       "<tf.Tensor: shape=(), dtype=float64, numpy=1.0>"
      ]
     },
     "execution_count": 106,
     "metadata": {},
     "output_type": "execute_result"
    }
   ],
   "source": [
    "tf.reduce_min(a)"
   ]
  },
  {
   "cell_type": "code",
   "execution_count": 108,
   "id": "29d67fed-cb07-4e9f-a49e-563dc9df1d8c",
   "metadata": {},
   "outputs": [
    {
     "data": {
      "text/plain": [
       "<tf.Tensor: shape=(), dtype=int32, numpy=10>"
      ]
     },
     "execution_count": 108,
     "metadata": {},
     "output_type": "execute_result"
    }
   ],
   "source": [
    "tf.reduce_max(e)"
   ]
  },
  {
   "cell_type": "code",
   "execution_count": 110,
   "id": "a9e05256-5b0c-435b-ac67-3b26d3681054",
   "metadata": {},
   "outputs": [
    {
     "data": {
      "text/plain": [
       "<tf.Tensor: shape=(), dtype=float64, numpy=300.0>"
      ]
     },
     "execution_count": 110,
     "metadata": {},
     "output_type": "execute_result"
    }
   ],
   "source": [
    "tf.reduce_sum(a)"
   ]
  },
  {
   "cell_type": "code",
   "execution_count": 114,
   "id": "7858bd3e-2b1c-4440-947c-981e0211644d",
   "metadata": {},
   "outputs": [
    {
     "data": {
      "text/plain": [
       "<tf.Tensor: shape=(), dtype=float64, numpy=12.5>"
      ]
     },
     "execution_count": 114,
     "metadata": {},
     "output_type": "execute_result"
    }
   ],
   "source": [
    "tf.reduce_mean(a)"
   ]
  },
  {
   "cell_type": "code",
   "execution_count": 146,
   "id": "6b2f895c-e476-46d6-9100-6177807512b8",
   "metadata": {},
   "outputs": [
    {
     "data": {
      "text/plain": [
       "<tf.Tensor: shape=(), dtype=float32, numpy=1.25>"
      ]
     },
     "execution_count": 146,
     "metadata": {},
     "output_type": "execute_result"
    }
   ],
   "source": [
    "import tensorflow_probability as tfp\n",
    "x = tf.constant([1.0, 2.0, 3.0, 4.0])\n",
    "var = tfp.stats.variance(x)\n",
    "var"
   ]
  },
  {
   "cell_type": "code",
   "execution_count": 148,
   "id": "57ee330f-fc32-401a-8645-e650d2071147",
   "metadata": {},
   "outputs": [
    {
     "data": {
      "text/plain": [
       "<tf.Tensor: shape=(), dtype=float32, numpy=2.0>"
      ]
     },
     "execution_count": 148,
     "metadata": {},
     "output_type": "execute_result"
    }
   ],
   "source": [
    "e = tf.constant([1.0, 2.0, 3.0, 4.0, 5.0])\n",
    "variance = tfp.stats.variance(e)\n",
    "variance"
   ]
  },
  {
   "cell_type": "code",
   "execution_count": 160,
   "id": "fe4e54a3-18cb-4ece-8140-19a4c90f3d6e",
   "metadata": {},
   "outputs": [
    {
     "data": {
      "text/plain": [
       "<tf.Tensor: shape=(), dtype=float64, numpy=6.922186552431729>"
      ]
     },
     "execution_count": 160,
     "metadata": {},
     "output_type": "execute_result"
    }
   ],
   "source": [
    "#SD dtype should be float then it will work only\n",
    "tf.math.reduce_std(a)"
   ]
  },
  {
   "cell_type": "markdown",
   "id": "9f370e04-9aee-4193-9a05-98040ecce088",
   "metadata": {},
   "source": [
    "### Postional max and min of tensor"
   ]
  },
  {
   "cell_type": "code",
   "execution_count": 165,
   "id": "defeaf4e-be8a-4e18-8026-16e94629a8de",
   "metadata": {},
   "outputs": [
    {
     "data": {
      "text/plain": [
       "<tf.Tensor: shape=(59,), dtype=float32, numpy=\n",
       "array([0.68789124, 0.48447883, 0.9309944 , 0.252187  , 0.73115396,\n",
       "       0.89256823, 0.94674826, 0.7493341 , 0.34925628, 0.54718256,\n",
       "       0.26160395, 0.69734323, 0.11962581, 0.53484344, 0.7148968 ,\n",
       "       0.87501776, 0.33967495, 0.17377627, 0.4418521 , 0.9008261 ,\n",
       "       0.13803864, 0.12217975, 0.5754491 , 0.9417181 , 0.9186585 ,\n",
       "       0.59708476, 0.6109482 , 0.82086265, 0.83269787, 0.8915849 ,\n",
       "       0.01377225, 0.49807465, 0.57503664, 0.6856195 , 0.75972784,\n",
       "       0.908944  , 0.40900218, 0.8765154 , 0.53890026, 0.42733097,\n",
       "       0.401173  , 0.66623247, 0.16348064, 0.18220246, 0.97040176,\n",
       "       0.06139731, 0.53034747, 0.9869994 , 0.4746945 , 0.8646754 ,\n",
       "       0.20301068, 0.11448455, 0.35100245, 0.68227184, 0.18108869,\n",
       "       0.8163481 , 0.65651655, 0.9258256 , 0.2391715 ], dtype=float32)>"
      ]
     },
     "execution_count": 165,
     "metadata": {},
     "output_type": "execute_result"
    }
   ],
   "source": [
    "f = tf.random.uniform(shape=[59])\n",
    "f"
   ]
  },
  {
   "cell_type": "code",
   "execution_count": 173,
   "id": "4403376b-2349-49fd-8502-24e0fe4692cd",
   "metadata": {},
   "outputs": [
    {
     "data": {
      "text/plain": [
       "<tf.Tensor: shape=(), dtype=float32, numpy=0.9869993925094604>"
      ]
     },
     "execution_count": 173,
     "metadata": {},
     "output_type": "execute_result"
    }
   ],
   "source": [
    "f[tf.argmax(f)]"
   ]
  },
  {
   "cell_type": "code",
   "execution_count": 171,
   "id": "4c60db22-0fc4-457d-ad25-f21d4877788f",
   "metadata": {},
   "outputs": [
    {
     "data": {
      "text/plain": [
       "<tf.Tensor: shape=(), dtype=float32, numpy=0.9869993925094604>"
      ]
     },
     "execution_count": 171,
     "metadata": {},
     "output_type": "execute_result"
    }
   ],
   "source": [
    "f[47]"
   ]
  },
  {
   "cell_type": "code",
   "execution_count": 175,
   "id": "958b954b-9028-4e34-8425-83510d50623f",
   "metadata": {},
   "outputs": [
    {
     "data": {
      "text/plain": [
       "<tf.Tensor: shape=(), dtype=int64, numpy=30>"
      ]
     },
     "execution_count": 175,
     "metadata": {},
     "output_type": "execute_result"
    }
   ],
   "source": [
    "tf.argmin(f)"
   ]
  },
  {
   "cell_type": "code",
   "execution_count": 179,
   "id": "c59ab222-6e22-40e1-808f-e42143c4110a",
   "metadata": {},
   "outputs": [
    {
     "data": {
      "text/plain": [
       "<tf.Tensor: shape=(), dtype=float32, numpy=0.013772249221801758>"
      ]
     },
     "execution_count": 179,
     "metadata": {},
     "output_type": "execute_result"
    }
   ],
   "source": [
    "f[tf.argmin(f)]"
   ]
  },
  {
   "cell_type": "markdown",
   "id": "f2357e3b-2d66-473e-acba-48b96d64ba3a",
   "metadata": {},
   "source": [
    "### Squeezing a tensor(removing all single dim)\n"
   ]
  },
  {
   "cell_type": "code",
   "execution_count": 182,
   "id": "9e65f6cf-c8a7-4f55-bade-b416b05ffe63",
   "metadata": {},
   "outputs": [
    {
     "data": {
      "text/plain": [
       "<tf.Tensor: shape=(1, 1, 1, 1, 50), dtype=float32, numpy=\n",
       "array([[[[[3.8196361e-01, 2.3903239e-01, 9.9752426e-01, 1.8916786e-01,\n",
       "           5.6714785e-01, 7.8952193e-02, 3.7483108e-01, 9.4712842e-01,\n",
       "           2.0741844e-01, 3.3790231e-01, 6.6301179e-01, 7.3679757e-01,\n",
       "           1.8487132e-01, 4.6934474e-01, 3.8190556e-01, 7.1974528e-01,\n",
       "           9.9162900e-01, 1.7788613e-01, 6.5675914e-01, 6.3827372e-01,\n",
       "           4.9466026e-01, 2.2245002e-01, 3.5675311e-01, 1.6085386e-01,\n",
       "           4.2665243e-02, 1.5246308e-01, 2.5725365e-04, 3.7915444e-01,\n",
       "           2.6980221e-01, 1.6064703e-01, 7.1868837e-01, 4.3204701e-01,\n",
       "           2.2218227e-01, 3.6847734e-01, 2.7116644e-01, 7.5607693e-01,\n",
       "           2.1148157e-01, 9.1654277e-01, 4.4660330e-01, 3.2091773e-01,\n",
       "           2.4330258e-02, 6.2409985e-01, 5.4379940e-01, 7.1591926e-01,\n",
       "           1.0848081e-01, 9.4688749e-01, 6.3822496e-01, 2.4165857e-01,\n",
       "           5.5070806e-01, 8.0952215e-01]]]]], dtype=float32)>"
      ]
     },
     "execution_count": 182,
     "metadata": {},
     "output_type": "execute_result"
    }
   ],
   "source": [
    "g = tf.random.set_seed(53)\n",
    "g = tf.constant(tf.random.uniform(shape=[50]), shape = (1, 1, 1, 1, 50))\n",
    "g"
   ]
  },
  {
   "cell_type": "code",
   "execution_count": 184,
   "id": "3b71cb41-30ca-4ed2-aa17-cbfc5cb1ee6a",
   "metadata": {},
   "outputs": [
    {
     "data": {
      "text/plain": [
       "TensorShape([1, 1, 1, 1, 50])"
      ]
     },
     "execution_count": 184,
     "metadata": {},
     "output_type": "execute_result"
    }
   ],
   "source": [
    "g.shape"
   ]
  },
  {
   "cell_type": "code",
   "execution_count": 188,
   "id": "de614bd8-0019-498b-98df-c70b4d12924b",
   "metadata": {},
   "outputs": [
    {
     "data": {
      "text/plain": [
       "TensorShape([50])"
      ]
     },
     "execution_count": 188,
     "metadata": {},
     "output_type": "execute_result"
    }
   ],
   "source": [
    "g_squeezed = tf.squeeze(g)\n",
    "g_squeezed.shape"
   ]
  },
  {
   "cell_type": "markdown",
   "id": "c9056153-788b-45bc-a506-ccec94d9cc86",
   "metadata": {},
   "source": [
    "### One Hot Encode"
   ]
  },
  {
   "cell_type": "code",
   "execution_count": 193,
   "id": "b05c4a08-e7ac-4e71-a05d-aa6072d3ad09",
   "metadata": {},
   "outputs": [
    {
     "data": {
      "text/plain": [
       "<tf.Tensor: shape=(4, 4), dtype=float32, numpy=\n",
       "array([[1., 0., 0., 0.],\n",
       "       [0., 1., 0., 0.],\n",
       "       [0., 0., 1., 0.],\n",
       "       [0., 0., 0., 1.]], dtype=float32)>"
      ]
     },
     "execution_count": 193,
     "metadata": {},
     "output_type": "execute_result"
    }
   ],
   "source": [
    "list = [0,1,2,3]\n",
    "tf.one_hot(list , depth= 4)"
   ]
  },
  {
   "cell_type": "code",
   "execution_count": 195,
   "id": "f5c4e554-6c70-4c44-8fa0-43338c70b7d9",
   "metadata": {},
   "outputs": [
    {
     "data": {
      "text/plain": [
       "<tf.Tensor: shape=(4, 4), dtype=string, numpy=\n",
       "array([[b' hey how are u', b' are you mad', b' are you mad',\n",
       "        b' are you mad'],\n",
       "       [b' are you mad', b' hey how are u', b' are you mad',\n",
       "        b' are you mad'],\n",
       "       [b' are you mad', b' are you mad', b' hey how are u',\n",
       "        b' are you mad'],\n",
       "       [b' are you mad', b' are you mad', b' are you mad',\n",
       "        b' hey how are u']], dtype=object)>"
      ]
     },
     "execution_count": 195,
     "metadata": {},
     "output_type": "execute_result"
    }
   ],
   "source": [
    "#specigy custom val\n",
    "tf.one_hot(list, depth = 4, on_value = \" hey how are u\", off_value = \" are you mad\")"
   ]
  },
  {
   "cell_type": "markdown",
   "id": "8bcf04d5-96ee-4955-b684-ca654e38f28d",
   "metadata": {},
   "source": [
    "### Math Function\n"
   ]
  },
  {
   "cell_type": "code",
   "execution_count": 206,
   "id": "6f8d2bef-3133-43a8-a571-917f81fcdf8e",
   "metadata": {},
   "outputs": [],
   "source": [
    "h = tf.range(1,10)"
   ]
  },
  {
   "cell_type": "code",
   "execution_count": 200,
   "id": "da146ccc-a8ce-40fe-9ed1-ffeb31f71d2d",
   "metadata": {},
   "outputs": [
    {
     "data": {
      "text/plain": [
       "<tf.Tensor: shape=(9,), dtype=int32, numpy=array([ 1,  4,  9, 16, 25, 36, 49, 64, 81], dtype=int32)>"
      ]
     },
     "execution_count": 200,
     "metadata": {},
     "output_type": "execute_result"
    }
   ],
   "source": [
    "tf.square(h)"
   ]
  },
  {
   "cell_type": "code",
   "execution_count": 212,
   "id": "ad4d8a7c-7ee9-4aeb-ba61-0c6eb0945218",
   "metadata": {},
   "outputs": [
    {
     "data": {
      "text/plain": [
       "<tf.Tensor: shape=(9,), dtype=float32, numpy=\n",
       "array([1.       , 1.4142135, 1.7320508, 2.       , 2.236068 , 2.4494898,\n",
       "       2.6457512, 2.828427 , 3.       ], dtype=float32)>"
      ]
     },
     "execution_count": 212,
     "metadata": {},
     "output_type": "execute_result"
    }
   ],
   "source": [
    "tf.sqrt(tf.cast(h,tf.float32))"
   ]
  },
  {
   "cell_type": "code",
   "execution_count": 214,
   "id": "d166483d-2e19-4eaf-822d-8b3e87588c25",
   "metadata": {},
   "outputs": [
    {
     "data": {
      "text/plain": [
       "<tf.Tensor: shape=(9,), dtype=float32, numpy=\n",
       "array([0.       , 0.6931472, 1.0986123, 1.3862944, 1.609438 , 1.7917595,\n",
       "       1.9459102, 2.0794415, 2.1972246], dtype=float32)>"
      ]
     },
     "execution_count": 214,
     "metadata": {},
     "output_type": "execute_result"
    }
   ],
   "source": [
    "tf.math.log(tf.cast(h,tf.float32))"
   ]
  },
  {
   "cell_type": "markdown",
   "id": "b338d71a-2c0e-4d3f-97ca-7c0aaa0411ec",
   "metadata": {},
   "source": [
    "## Tensors and Numpy"
   ]
  },
  {
   "cell_type": "code",
   "execution_count": 219,
   "id": "f31a48dc-e223-4ac0-a668-0f3d59e2861d",
   "metadata": {},
   "outputs": [
    {
     "data": {
      "text/plain": [
       "<tf.Tensor: shape=(3,), dtype=float64, numpy=array([1., 4., 5.])>"
      ]
     },
     "execution_count": 219,
     "metadata": {},
     "output_type": "execute_result"
    }
   ],
   "source": [
    "j = tf.constant(np.array([1.,4.,5.]))\n",
    "j"
   ]
  },
  {
   "cell_type": "code",
   "execution_count": 221,
   "id": "f2683ac3-4d1d-4ff3-bb27-738ea63b69db",
   "metadata": {},
   "outputs": [
    {
     "data": {
      "text/plain": [
       "(array([1., 4., 5.]), numpy.ndarray)"
      ]
     },
     "execution_count": 221,
     "metadata": {},
     "output_type": "execute_result"
    }
   ],
   "source": [
    "np.array(j), type(np.array(j))"
   ]
  },
  {
   "cell_type": "code",
   "execution_count": 223,
   "id": "42841c22-83da-4252-b06e-3d21a98cbe3d",
   "metadata": {},
   "outputs": [
    {
     "data": {
      "text/plain": [
       "(array([1., 4., 5.]), numpy.ndarray)"
      ]
     },
     "execution_count": 223,
     "metadata": {},
     "output_type": "execute_result"
    }
   ],
   "source": [
    "j.numpy(),type(j.numpy())"
   ]
  },
  {
   "cell_type": "code",
   "execution_count": 227,
   "id": "1d939ba4-a8ee-4a29-b2af-415b44fef58c",
   "metadata": {},
   "outputs": [
    {
     "data": {
      "text/plain": [
       "np.float64(4.0)"
      ]
     },
     "execution_count": 227,
     "metadata": {},
     "output_type": "execute_result"
    }
   ],
   "source": [
    "j.numpy()[1]"
   ]
  },
  {
   "cell_type": "code",
   "execution_count": 229,
   "id": "535ba85d-117f-496d-8dda-a7d50d753e49",
   "metadata": {},
   "outputs": [
    {
     "data": {
      "text/plain": [
       "(<tf.Tensor: shape=(3,), dtype=float64, numpy=array([1.9, 7.3, 5.2])>,\n",
       " <tf.Tensor: shape=(3,), dtype=float32, numpy=array([3.2, 4.3, 6.2], dtype=float32)>)"
      ]
     },
     "execution_count": 229,
     "metadata": {},
     "output_type": "execute_result"
    }
   ],
   "source": [
    "k = tf.constant(np.array([1.9,7.3,5.2]))\n",
    "l = tf.constant([3.2,4.3,6.2])\n",
    "k, l"
   ]
  },
  {
   "cell_type": "markdown",
   "id": "74931298-bd32-437d-bda4-7b4dec948eae",
   "metadata": {},
   "source": [
    "### CPU & GPU"
   ]
  },
  {
   "cell_type": "code",
   "execution_count": 232,
   "id": "d1c971f9-324f-4da6-bf09-954f94ba4026",
   "metadata": {},
   "outputs": [
    {
     "data": {
      "text/plain": [
       "[PhysicalDevice(name='/physical_device:CPU:0', device_type='CPU')]"
      ]
     },
     "execution_count": 232,
     "metadata": {},
     "output_type": "execute_result"
    }
   ],
   "source": [
    "tf.config.list_physical_devices()"
   ]
  },
  {
   "cell_type": "code",
   "execution_count": 236,
   "id": "0b0b87d8-6c5f-43fc-8936-1c4ba425f399",
   "metadata": {},
   "outputs": [
    {
     "data": {
      "text/plain": [
       "[]"
      ]
     },
     "execution_count": 236,
     "metadata": {},
     "output_type": "execute_result"
    }
   ],
   "source": [
    "tf.config.list_physical_devices(\"GPU\")"
   ]
  },
  {
   "cell_type": "code",
   "execution_count": 238,
   "id": "bbe6daaf-2b5e-4ef9-aa73-15ed20f37127",
   "metadata": {},
   "outputs": [
    {
     "name": "stdout",
     "output_type": "stream",
     "text": [
      "Sun Jul 27 01:44:45 2025       \n",
      "+-----------------------------------------------------------------------------------------+\n",
      "| NVIDIA-SMI 576.28                 Driver Version: 576.28         CUDA Version: 12.9     |\n",
      "|-----------------------------------------+------------------------+----------------------+\n",
      "| GPU  Name                  Driver-Model | Bus-Id          Disp.A | Volatile Uncorr. ECC |\n",
      "| Fan  Temp   Perf          Pwr:Usage/Cap |           Memory-Usage | GPU-Util  Compute M. |\n",
      "|                                         |                        |               MIG M. |\n",
      "|=========================================+========================+======================|\n",
      "|   0  NVIDIA GeForce RTX 3050 ...  WDDM  |   00000000:01:00.0 Off |                  N/A |\n",
      "| N/A   33C    P8              3W /   95W |       1MiB /   6144MiB |      0%      Default |\n",
      "|                                         |                        |                  N/A |\n",
      "+-----------------------------------------+------------------------+----------------------+\n",
      "                                                                                         \n",
      "+-----------------------------------------------------------------------------------------+\n",
      "| Processes:                                                                              |\n",
      "|  GPU   GI   CI              PID   Type   Process name                        GPU Memory |\n",
      "|        ID   ID                                                               Usage      |\n",
      "|=========================================================================================|\n",
      "|  No running processes found                                                             |\n",
      "+-----------------------------------------------------------------------------------------+\n"
     ]
    }
   ],
   "source": [
    "!nvidia-smi"
   ]
  },
  {
   "cell_type": "code",
   "execution_count": null,
   "id": "ec7c2150-3ad8-4162-a8ed-82a8b1ab9fc5",
   "metadata": {},
   "outputs": [],
   "source": []
  }
 ],
 "metadata": {
  "kernelspec": {
   "display_name": "Python [conda env:tensorflow_env]",
   "language": "python",
   "name": "conda-env-tensorflow_env-py"
  },
  "language_info": {
   "codemirror_mode": {
    "name": "ipython",
    "version": 3
   },
   "file_extension": ".py",
   "mimetype": "text/x-python",
   "name": "python",
   "nbconvert_exporter": "python",
   "pygments_lexer": "ipython3",
   "version": "3.10.18"
  }
 },
 "nbformat": 4,
 "nbformat_minor": 5
}
